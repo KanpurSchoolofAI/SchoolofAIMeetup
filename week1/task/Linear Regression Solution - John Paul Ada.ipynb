{
  "cells": [
    {
      "metadata": {},
      "cell_type": "markdown",
      "source": "# School of AI Task 01\n> Attempt by John Paul Ada"
    },
    {
      "metadata": {},
      "cell_type": "markdown",
      "source": "## Import libraries"
    },
    {
      "metadata": {
        "trusted": true
      },
      "cell_type": "code",
      "source": "import pandas as pd\nimport matplotlib.pyplot as plt\nimport numpy as np\nfrom sklearn.linear_model import LinearRegression\nfrom sklearn.model_selection import KFold\nfrom sklearn.metrics import mean_squared_error",
      "execution_count": 46,
      "outputs": []
    },
    {
      "metadata": {},
      "cell_type": "markdown",
      "source": "## Import data"
    },
    {
      "metadata": {
        "trusted": true
      },
      "cell_type": "code",
      "source": "df = pd.read_csv(\"kanpur-task01.csv\")",
      "execution_count": 47,
      "outputs": []
    },
    {
      "metadata": {},
      "cell_type": "markdown",
      "source": "## Examine Data"
    },
    {
      "metadata": {
        "trusted": true
      },
      "cell_type": "code",
      "source": "df.head()",
      "execution_count": 48,
      "outputs": [
        {
          "output_type": "execute_result",
          "execution_count": 48,
          "data": {
            "text/html": "<div>\n<table border=\"1\" class=\"dataframe\">\n  <thead>\n    <tr style=\"text-align: right;\">\n      <th></th>\n      <th>x</th>\n      <th>y</th>\n    </tr>\n  </thead>\n  <tbody>\n    <tr>\n      <th>0</th>\n      <td>0.068200</td>\n      <td>-10.756819</td>\n    </tr>\n    <tr>\n      <th>1</th>\n      <td>-0.787324</td>\n      <td>-38.507367</td>\n    </tr>\n    <tr>\n      <th>2</th>\n      <td>0.510082</td>\n      <td>13.048297</td>\n    </tr>\n    <tr>\n      <th>3</th>\n      <td>-0.909922</td>\n      <td>-30.883886</td>\n    </tr>\n    <tr>\n      <th>4</th>\n      <td>0.143208</td>\n      <td>-0.350899</td>\n    </tr>\n  </tbody>\n</table>\n</div>",
            "text/plain": "          x          y\n0  0.068200 -10.756819\n1 -0.787324 -38.507367\n2  0.510082  13.048297\n3 -0.909922 -30.883886\n4  0.143208  -0.350899"
          },
          "metadata": {}
        }
      ]
    },
    {
      "metadata": {},
      "cell_type": "markdown",
      "source": "## Split Data into 5 Folds"
    },
    {
      "metadata": {
        "trusted": true
      },
      "cell_type": "code",
      "source": "kf = KFold(n_splits=5)",
      "execution_count": 49,
      "outputs": []
    },
    {
      "metadata": {
        "trusted": true
      },
      "cell_type": "code",
      "source": "X = df['x'].as_matrix().reshape(500,1)",
      "execution_count": 50,
      "outputs": []
    },
    {
      "metadata": {
        "trusted": true
      },
      "cell_type": "code",
      "source": "y = df['y'].as_matrix()",
      "execution_count": 52,
      "outputs": []
    },
    {
      "metadata": {},
      "cell_type": "markdown",
      "source": "## Create Model"
    },
    {
      "metadata": {
        "trusted": true
      },
      "cell_type": "code",
      "source": "model = LinearRegression()",
      "execution_count": 53,
      "outputs": []
    },
    {
      "metadata": {},
      "cell_type": "markdown",
      "source": "## Train Model on each split"
    },
    {
      "metadata": {
        "trusted": true
      },
      "cell_type": "code",
      "source": "for train_index, test_index in kf.split(X):\n    X_train, X_test = X[train_index], X[test_index]\n    y_train, y_test = y[train_index], y[test_index]\n    model.fit(X_train, y_train)\n    predicted = model.predict(X_test)\n    print(mean_squared_error(y_test, predicted))",
      "execution_count": 57,
      "outputs": [
        {
          "output_type": "stream",
          "text": "103.01924366196084\n82.27591422082958\n87.00762012814275\n97.3124914804991\n95.96778738999679\n",
          "name": "stdout"
        }
      ]
    },
    {
      "metadata": {},
      "cell_type": "markdown",
      "source": "## Plot Result"
    },
    {
      "metadata": {
        "trusted": true
      },
      "cell_type": "code",
      "source": "plt.scatter(X_test, y_test,  color='black')\nplt.plot(X_test, predicted, color='blue', linewidth=3)\n\nplt.xticks(())\nplt.yticks(())\n\nplt.show()",
      "execution_count": 58,
      "outputs": [
        {
          "output_type": "display_data",
          "data": {
            "image/png": "[encoded data removed]",
            "text/plain": "<matplotlib.figure.Figure at 0x7fef43732f60>"
          },
          "metadata": {}
        }
      ]
    },
    {
      "metadata": {
        "trusted": true
      },
      "cell_type": "code",
      "source": "",
      "execution_count": null,
      "outputs": []
    }
  ],
  "metadata": {
    "kernelspec": {
      "name": "python3",
      "display_name": "Python 3",
      "language": "python"
    },
    "language_info": {
      "mimetype": "text/x-python",
      "nbconvert_exporter": "python",
      "name": "python",
      "pygments_lexer": "ipython3",
      "version": "3.5.4",
      "file_extension": ".py",
      "codemirror_mode": {
        "version": 3,
        "name": "ipython"
      }
    }
  },
  "nbformat": 4,
  "nbformat_minor": 2
}